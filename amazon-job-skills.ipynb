{
 "cells": [
  {
   "cell_type": "code",
   "execution_count": 1,
   "metadata": {
    "_cell_guid": "b1076dfc-b9ad-4769-8c92-a6c4dae69d19",
    "_uuid": "8f2839f25d086af736a60e9eeb907d3b93b6e0e5"
   },
   "outputs": [
    {
     "name": "stdout",
     "output_type": "stream",
     "text": [
      "['amazon_jobs_dataset.csv']\n"
     ]
    }
   ],
   "source": [
    "# This Python 3 environment comes with many helpful analytics libraries installed\n",
    "# It is defined by the kaggle/python docker image: https://github.com/kaggle/docker-python\n",
    "# For example, here's several helpful packages to load in \n",
    "\n",
    "import numpy as np # linear algebra\n",
    "import pandas as pd # data processing, CSV file I/O (e.g. pd.read_csv)\n",
    "\n",
    "# Input data files are available in the \"../input/\" directory.\n",
    "# For example, running this (by clicking run or pressing Shift+Enter) will list the files in the input directory\n",
    "\n",
    "import os\n",
    "print(os.listdir(\"../input\"))\n",
    "\n",
    "# Any results you write to the current directory are saved as output."
   ]
  },
  {
   "cell_type": "code",
   "execution_count": 2,
   "metadata": {
    "_cell_guid": "79c7e3d0-c299-4dcb-8224-4455121ee9b0",
    "_uuid": "d629ff2d2480ee46fbb7e2d37f6b5fab8052498a"
   },
   "outputs": [],
   "source": [
    "path='../input/amazon_jobs_dataset.csv'"
   ]
  },
  {
   "cell_type": "markdown",
   "metadata": {},
   "source": [
    "Number of job openings in **Bangalore**,India and in **Seattle**,USA"
   ]
  },
  {
   "cell_type": "code",
   "execution_count": 3,
   "metadata": {},
   "outputs": [
    {
     "name": "stdout",
     "output_type": "stream",
     "text": [
      "IN, KA, Bangalore  : 66\n",
      "US, WA, Seattle  : 1856\n"
     ]
    }
   ],
   "source": [
    "count1=0\n",
    "count2=0\n",
    "import csv\n",
    "with open(path) as file_obj:\n",
    "    file=csv.DictReader(file_obj,delimiter=',',skipinitialspace=True)\n",
    "    file_list=list(file)\n",
    "for row in file_list:\n",
    "    value=row['location']\n",
    "    banglore='IN, KA, Bangalore '\n",
    "    seattle ='US, WA, Seattle '\n",
    "    if value==banglore:\n",
    "        count1+=1\n",
    "    if value==seattle:\n",
    "        count2+=1\n",
    "print(banglore,':',count1)\n",
    "print(seattle,':',count2)"
   ]
  },
  {
   "cell_type": "markdown",
   "metadata": {},
   "source": [
    " Total number of **job** openings related to **Computer Vision **"
   ]
  },
  {
   "cell_type": "code",
   "execution_count": 4,
   "metadata": {},
   "outputs": [
    {
     "name": "stdout",
     "output_type": "stream",
     "text": [
      "14\n"
     ]
    }
   ],
   "source": [
    "count=0\n",
    "for row in file_list:\n",
    "    value=row['Title']\n",
    "    comvision='Computer Vision'\n",
    "    if comvision in value or 'computer vision' in value:\n",
    "        count+=1\n",
    "print(count)"
   ]
  },
  {
   "cell_type": "markdown",
   "metadata": {},
   "source": [
    "Number of job openings in** Canada**"
   ]
  },
  {
   "cell_type": "code",
   "execution_count": 5,
   "metadata": {},
   "outputs": [
    {
     "name": "stdout",
     "output_type": "stream",
     "text": [
      "156\n"
     ]
    }
   ],
   "source": [
    "Country_Code='CA' \n",
    "job_opening=0\n",
    "for row in file_list:\n",
    "    if row['location'].split(',')[0]==Country_Code:\n",
    "        job_opening=job_opening+1\n",
    "print(job_opening)"
   ]
  },
  {
   "cell_type": "markdown",
   "metadata": {},
   "source": [
    "**Month** having** most job** openings in Year **2018**"
   ]
  },
  {
   "cell_type": "code",
   "execution_count": 6,
   "metadata": {},
   "outputs": [
    {
     "name": "stdout",
     "output_type": "stream",
     "text": [
      "January 907\n"
     ]
    }
   ],
   "source": [
    "import csv\n",
    "posting_date=[]\n",
    "for row in file_list:\n",
    "    posting_date.append(row['Posting_date'])\n",
    "def getTheJobYearList(arr,year):\n",
    "    year_list=[]\n",
    "    for i in arr:\n",
    "        if i.split(' ')[-1]==year:\n",
    "            year_list.append(i) \n",
    "    return year_list\n",
    "year2018=getTheJobYearList(posting_date,'2018') \n",
    "def getTheMonthList(arr):\n",
    "    month=[] \n",
    "    for i in arr:\n",
    "        month.append(i.split(' ')[0]) \n",
    "    return month \n",
    "def createDictionary(arr): \n",
    "    dictionary={i:0 for i in set(arr)}\n",
    "    for i in arr:\n",
    "        dictionary[i]=dictionary.get(i)+1\n",
    "    return dictionary\n",
    "dictionary=createDictionary(getTheMonthList(year2018))\n",
    " \n",
    "def convertDictToList(dictionary):\n",
    "    month_job=[]\n",
    "    for i in dictionary:\n",
    "        month_job.append([dictionary.get(i),i])\n",
    "        month_job.sort(reverse=True) \n",
    "    return month_job \n",
    "month2018=convertDictToList(dictionary)\n",
    "print(month2018[0][1],month2018[0][0])"
   ]
  },
  {
   "cell_type": "markdown",
   "metadata": {},
   "source": [
    " Number of job openings are present if applicant have **Bachelor degree**"
   ]
  },
  {
   "cell_type": "code",
   "execution_count": 7,
   "metadata": {},
   "outputs": [
    {
     "name": "stdout",
     "output_type": "stream",
     "text": [
      "2961\n"
     ]
    }
   ],
   "source": [
    "count=0\n",
    "for row in file_list:\n",
    "    value=row['BASIC QUALIFICATIONS']\n",
    "    if 'Bachelor' in value or 'BS' in value or 'BA' in value:\n",
    "        count+=1\n",
    "print(count)"
   ]
  },
  {
   "cell_type": "markdown",
   "metadata": {},
   "source": [
    "Among J**ava, C++ and Pytho**n, which of the language has more job openings in India for **Bachelor Degree Holder**?"
   ]
  },
  {
   "cell_type": "code",
   "execution_count": 8,
   "metadata": {},
   "outputs": [
    {
     "name": "stdout",
     "output_type": "stream",
     "text": [
      "Java 103\n"
     ]
    }
   ],
   "source": [
    "python=0\n",
    "java=0\n",
    "c=0\n",
    "for row in file_list:\n",
    "    value=row['location']\n",
    "    degree=row['BASIC QUALIFICATIONS']\n",
    "    if value.split(',')[0]=='IN':\n",
    "        if 'BS' in degree or 'Bachelor' in degree or 'BA' in degree:\n",
    "            if 'Python' in degree:\n",
    "                python+=1\n",
    "            if 'Java' in degree:\n",
    "                java+=1\n",
    "            if 'C++' in degree:\n",
    "                c+=1\n",
    "if python>java and python>c:\n",
    "    print('Python',python)\n",
    "elif java>python and java >c:\n",
    "    print('Java',java)\n",
    "elif c>python and c>java:\n",
    "    print('C++',c)        "
   ]
  },
  {
   "cell_type": "markdown",
   "metadata": {},
   "source": [
    "which country does** Amazon** need the most number of **Java Developer**?"
   ]
  },
  {
   "cell_type": "code",
   "execution_count": 9,
   "metadata": {},
   "outputs": [
    {
     "name": "stdout",
     "output_type": "stream",
     "text": [
      "US 2009\n"
     ]
    }
   ],
   "source": [
    "country_basic_qualifications=[] \n",
    "for row in file_list:\n",
    "    country_basic_qualifications.append([row['location'],row['BASIC QUALIFICATIONS']])\n",
    "## Get Java Developer from the different country \n",
    "def getTheJavaDeveloper(arr): \n",
    "    arrlist=[] \n",
    "    for i in arr:\n",
    "        if 'Java' in i[1]:\n",
    "            arrlist.append(i[0].split(',')[0])\n",
    "    return arrlist\n",
    "java_developer=getTheJavaDeveloper(country_basic_qualifications)\n",
    "def createDictionary(arr): \n",
    "    dictionary={i:0 for i in set(arr)} \n",
    "    for i in arr: \n",
    "        dictionary[i]=dictionary.get(i)+1\n",
    "    return dictionary\n",
    "def convertDictToList(dictionary): \n",
    "    arrlist=[] \n",
    "    for i in dictionary:\n",
    "        arrlist.append([dictionary.get(i),i])\n",
    "        arrlist.sort(reverse=True)\n",
    "    return arrlist \n",
    "java_dict=createDictionary(java_developer)\n",
    "java_list=convertDictToList(java_dict) \n",
    "print(java_list[0][1],java_list[0][0])"
   ]
  },
  {
   "cell_type": "markdown",
   "metadata": {},
   "source": [
    "Number of Job postings with respect to year"
   ]
  },
  {
   "cell_type": "code",
   "execution_count": 10,
   "metadata": {},
   "outputs": [
    {
     "data": {
      "image/png": "[encoded data removed]",
      "text/plain": [
       "<Figure size 432x288 with 1 Axes>"
      ]
     },
     "metadata": {
      "needs_background": "light"
     },
     "output_type": "display_data"
    },
    {
     "name": "stdout",
     "output_type": "stream",
     "text": [
      "2011 2\n",
      "2012 7\n",
      "2013 3\n",
      "2014 5\n",
      "2015 29\n",
      "2016 123\n",
      "2017 1614\n",
      "2018 1710\n"
     ]
    }
   ],
   "source": [
    "import matplotlib.pyplot as plt\n",
    "import numpy as np\n",
    "import pandas as pd\n",
    "import csv\n",
    "file_obj = open('../input/amazon_jobs_dataset.csv',encoding='utf-8')\n",
    "data = pd.read_csv(file_obj)\n",
    "date = data['Posting_date']\n",
    "year = date.str.split(', ', expand = True)[1]\n",
    "#print(type(year))\n",
    "freq = year.value_counts(ascending = True)\n",
    "freq.sort_index(inplace=True)\n",
    "x = freq.index\n",
    "y = freq\n",
    "plt.plot(x, y, marker = 'o')\n",
    "plt.title('Year vs No. of Job Openings')\n",
    "plt.xlabel('Year')\n",
    "plt.ylabel('No. of Job Openings')\n",
    "plt.show()\n",
    "\n",
    "for i in range(len(x)):\n",
    "    print(x[i],y[i])"
   ]
  },
  {
   "cell_type": "markdown",
   "metadata": {},
   "source": [
    "**Month vs Job Opening**s"
   ]
  },
  {
   "cell_type": "code",
   "execution_count": 11,
   "metadata": {},
   "outputs": [
    {
     "data": {
      "image/png": "[encoded data removed]",
      "text/plain": [
       "<Figure size 432x288 with 1 Axes>"
      ]
     },
     "metadata": {
      "needs_background": "light"
     },
     "output_type": "display_data"
    },
    {
     "name": "stdout",
     "output_type": "stream",
     "text": [
      "April 58\n",
      "August 153\n",
      "December 393\n",
      "February 869\n",
      "January 961\n",
      "July 95\n",
      "June 99\n",
      "March 78\n",
      "May 108\n",
      "November 271\n",
      "October 243\n",
      "September 165\n"
     ]
    }
   ],
   "source": [
    "date=data['Posting_date']\n",
    "month=date.str.split(' ',expand=True)[0]\n",
    "freq = month.value_counts(ascending = True)\n",
    "freq.sort_index(inplace=True)\n",
    "x = freq.index\n",
    "y = freq\n",
    "plt.plot(x, y, marker = 'o')\n",
    "plt.title('Year vs No. of Job Openings')\n",
    "plt.xlabel('Year')\n",
    "plt.ylabel('No. of Job Openings')\n",
    "plt.show()\n",
    "for i in range(len(x)):\n",
    "    print(x[i],y[i])"
   ]
  },
  {
   "cell_type": "markdown",
   "metadata": {},
   "source": [
    "**Indian cities vs No. of jobs opening**"
   ]
  },
  {
   "cell_type": "code",
   "execution_count": 12,
   "metadata": {},
   "outputs": [
    {
     "data": {
      "image/png": "[encoded data removed]",
      "text/plain": [
       "<Figure size 432x288 with 1 Axes>"
      ]
     },
     "metadata": {},
     "output_type": "display_data"
    },
    {
     "data": {
      "image/png": "[encoded data removed]",
      "text/plain": [
       "<Figure size 432x288 with 1 Axes>"
      ]
     },
     "metadata": {
      "needs_background": "light"
     },
     "output_type": "display_data"
    },
    {
     "name": "stdout",
     "output_type": "stream",
     "text": [
      "Pune 0.71\n",
      "Gurgaon 3.55\n",
      "Chennai 23.40\n",
      "Hyderabad 25.53\n",
      "Bangalore 46.81\n"
     ]
    }
   ],
   "source": [
    "india=data[data['location'].str.split(',',expand=True)[0]=='IN']\n",
    "city=india['location'].str.split(',',expand=True)[2]\n",
    "freq = city.value_counts(ascending = True)\n",
    "#freq.sort_index(inplace=True)\n",
    "x = freq.index\n",
    "y = freq\n",
    "#y=sorted(y,reverse=True)\n",
    "plt.pie(y,labels=x,autopct='%.2f%%')\n",
    "plt.show()\n",
    "plt.title('Indian cities vs No. of Job Openings')\n",
    "plt.xlabel('Indian cities')\n",
    "plt.ylabel('No. of Job Openings')\n",
    "plt.show()\n",
    "y1=np.sum(y)\n",
    "for i in range(len(x)):\n",
    "    print(x[i].strip(),format((y[i]/y1)*100, '.2f'))"
   ]
  },
  {
   "cell_type": "markdown",
   "metadata": {},
   "source": [
    "**Year vs No. of jobs opening related to Java**"
   ]
  },
  {
   "cell_type": "code",
   "execution_count": 13,
   "metadata": {},
   "outputs": [
    {
     "data": {
      "image/png": "[encoded data removed]",
      "text/plain": [
       "<Figure size 432x288 with 1 Axes>"
      ]
     },
     "metadata": {
      "needs_background": "light"
     },
     "output_type": "display_data"
    },
    {
     "name": "stdout",
     "output_type": "stream",
     "text": [
      "2012 6\n",
      "2013 2\n",
      "2014 4\n",
      "2015 25\n",
      "2016 95\n",
      "2017 1093\n",
      "2018 1210\n"
     ]
    }
   ],
   "source": [
    "year = data['Posting_date'].str.split(', ', expand = True)[1]\n",
    "basic_qualification=data['BASIC QUALIFICATIONS']\n",
    "array=np.array(list(zip(year,basic_qualification)))\n",
    "for i in range(len(array)):\n",
    "    if 'Java' in array[i][1] or 'java' in array[i][1]:\n",
    "        array[i][1]=1\n",
    "    else: \n",
    "        array[i][1]=0\n",
    "array=array[array[:,1]=='1']\n",
    "array=array[:,0]\n",
    "year=np.unique(array)\n",
    "job=[] \n",
    "for i in year:\n",
    "    job.append(len(array[array==i]))\n",
    "plt.scatter(year,job,edgecolors='black',s=100)\n",
    "plt.grid()\n",
    "plt.show()\n",
    "for i in range(len(year)):\n",
    "    print(year[i],job[i])"
   ]
  }
 ],
 "metadata": {
  "kernelspec": {
   "display_name": "Python 3",
   "language": "python",
   "name": "python3"
  },
  "language_info": {
   "codemirror_mode": {
    "name": "ipython",
    "version": 3
   },
   "file_extension": ".py",
   "mimetype": "text/x-python",
   "name": "python",
   "nbconvert_exporter": "python",
   "pygments_lexer": "ipython3",
   "version": "3.6.6"
  }
 },
 "nbformat": 4,
 "nbformat_minor": 1
}
